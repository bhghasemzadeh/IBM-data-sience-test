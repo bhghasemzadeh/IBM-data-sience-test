{
 "cells": [
  {
   "cell_type": "markdown",
   "id": "a86ed84e-2875-4a6d-9588-f99fe6abf175",
   "metadata": {},
   "source": [
    "# Data Science Tools and Ecosystem"
   ]
  },
  {
   "cell_type": "markdown",
   "id": "b08d9011-e1c5-41fc-ad3a-bf2c159e67ff",
   "metadata": {},
   "source": [
    "# In this notebook, Data Science Tools and Ecosystem are summarized."
   ]
  },
  {
   "cell_type": "markdown",
   "id": "58eeb1e8-7fe7-4c10-aed7-92234651b1b9",
   "metadata": {},
   "source": [
    "**Objectives:**\n",
    "* List popular languages for Data Science\n",
    "* popular libraries for data sience\n",
    "* data sience open source tools\n"
   ]
  },
  {
   "cell_type": "markdown",
   "id": "89ba8a9f-3e9b-4686-be80-110d4a31f081",
   "metadata": {},
   "source": [
    "Some of the popular languages that Data Scientists use are:\n",
    "1. python\n",
    "2. R\n",
    "3. SQL server\n"
   ]
  },
  {
   "cell_type": "markdown",
   "id": "cbffe767-2e06-4dbe-80cc-a7ded224ade7",
   "metadata": {},
   "source": [
    "# Some of the commonly used libraries used by Data Scientists include:\n",
    "1. matplotlib\n",
    "2. numpy\n",
    "3. pandas\n",
    "4. scikit-learn\n"
   ]
  },
  {
   "cell_type": "markdown",
   "id": "89f608ab-a9e9-4924-b29e-fa8fb6b82225",
   "metadata": {},
   "source": [
    "|Data Science Tools|\n",
    "--------------------\n",
    " |RStudio|\n",
    " |Apache Spark|\n",
    " |TensorFlow|\n",
    "--------------------\n"
   ]
  },
  {
   "cell_type": "markdown",
   "id": "d045f407-95e3-4641-8ab1-d611f015ec6e",
   "metadata": {},
   "source": [
    "### Below are a few examples of evaluating arithmetic expressions in Python"
   ]
  },
  {
   "cell_type": "code",
   "execution_count": 3,
   "id": "b89060ed-1203-4d52-b987-551bc84154cd",
   "metadata": {},
   "outputs": [
    {
     "data": {
      "text/plain": [
       "17"
      ]
     },
     "execution_count": 3,
     "metadata": {},
     "output_type": "execute_result"
    }
   ],
   "source": [
    "# This a simple arithmetic expression to mutiply then add integers\n",
    "(3*4)+5"
   ]
  },
  {
   "cell_type": "code",
   "execution_count": 5,
   "id": "749ea5c4-8f48-4d68-8a6d-2b55988f6ae3",
   "metadata": {},
   "outputs": [
    {
     "data": {
      "text/plain": [
       "3.3333333333333335"
      ]
     },
     "execution_count": 5,
     "metadata": {},
     "output_type": "execute_result"
    }
   ],
   "source": [
    "# This will convert 200 minutes to hours by diving by 60\n",
    "200/60"
   ]
  },
  {
   "cell_type": "markdown",
   "id": "cbc257cc-1866-423b-af45-cfd085a97761",
   "metadata": {},
   "source": [
    "## Author\n",
    "Hossein Abolghasemzadeh"
   ]
  },
  {
   "cell_type": "code",
   "execution_count": null,
   "id": "6ee467be-1277-481c-b33d-687150f5f712",
   "metadata": {},
   "outputs": [],
   "source": []
  }
 ],
 "metadata": {
  "kernelspec": {
   "display_name": "Python",
   "language": "python",
   "name": "conda-env-python-py"
  },
  "language_info": {
   "codemirror_mode": {
    "name": "ipython",
    "version": 3
   },
   "file_extension": ".py",
   "mimetype": "text/x-python",
   "name": "python",
   "nbconvert_exporter": "python",
   "pygments_lexer": "ipython3",
   "version": "3.7.12"
  }
 },
 "nbformat": 4,
 "nbformat_minor": 5
}
